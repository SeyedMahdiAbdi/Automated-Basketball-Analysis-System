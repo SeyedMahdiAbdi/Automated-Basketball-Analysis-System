{
 "cells": [
  {
   "cell_type": "code",
   "execution_count": 1,
   "id": "7224478a",
   "metadata": {},
   "outputs": [
    {
     "name": "stdout",
     "output_type": "stream",
     "text": [
      "Requirement already satisfied: opencv-python in c:\\users\\k2500604\\miniconda3\\envs\\py310\\lib\\site-packages (4.12.0.88)\n",
      "Requirement already satisfied: numpy<2.3.0,>=2 in c:\\users\\k2500604\\miniconda3\\envs\\py310\\lib\\site-packages (from opencv-python) (2.1.2)\n"
     ]
    }
   ],
   "source": [
    "!pip install opencv-python"
   ]
  },
  {
   "cell_type": "code",
   "execution_count": 4,
   "id": "30a025d5",
   "metadata": {},
   "outputs": [],
   "source": [
    "import cv2\n",
    "import os   #use to get directories and file names\n",
    "\n",
    "#function for getting video \n",
    "def get_video(video_path):\n",
    "    frames = []\n",
    "    capture = cv2.VideoCapture(video_path)\n",
    "\n",
    "    while (True):\n",
    "        is_returned, frame = capture.read()\n",
    "\n",
    "        if not is_returned:\n",
    "            break\n",
    "        frames.append(frame)\n",
    "    return frames\n",
    "        \n",
    "#function for saving video\n",
    "def save_video(output_frames, output_path):\n",
    "    if not os.path.exists(os.path.dirname(output_path)):\n",
    "        os.mkdir(os.path.dirname(output_path))\n",
    "\n",
    "    codec = cv2.VideoWriter_fourcc('X', 'V', 'I', 'D')\n",
    "    output = cv2.VideoWriter(output_path, codec, 24.0, (output_frames[0].shape[1], output_frames[0].shape[0]))\n",
    "\n",
    "    for frame in output_frames:\n",
    "        output.write(frame)\n",
    "    output.release()\n"
   ]
  }
 ],
 "metadata": {
  "kernelspec": {
   "display_name": "py310",
   "language": "python",
   "name": "python3"
  },
  "language_info": {
   "codemirror_mode": {
    "name": "ipython",
    "version": 3
   },
   "file_extension": ".py",
   "mimetype": "text/x-python",
   "name": "python",
   "nbconvert_exporter": "python",
   "pygments_lexer": "ipython3",
   "version": "3.10.18"
  }
 },
 "nbformat": 4,
 "nbformat_minor": 5
}
